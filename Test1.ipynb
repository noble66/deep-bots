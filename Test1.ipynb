{
 "cells": [
  {
   "cell_type": "code",
   "execution_count": 4,
   "metadata": {
    "collapsed": false
   },
   "outputs": [],
   "source": [
    "import requests"
   ]
  },
  {
   "cell_type": "code",
   "execution_count": 8,
   "metadata": {
    "collapsed": true
   },
   "outputs": [],
   "source": [
    "token = 'ce868618549b43168da29f73e0ebe469'\n",
    "secret = '9677f7e9cfce48caaa726004dc5676a1'"
   ]
  },
  {
   "cell_type": "code",
   "execution_count": 9,
   "metadata": {
    "collapsed": false
   },
   "outputs": [
    {
     "name": "stdout",
     "output_type": "stream",
     "text": [
      "https://api.instagram.com/v1/tags/nofilter/media/recent?access_token=9677f7e9cfce48caaa726004dc5676a1\n"
     ]
    }
   ],
   "source": [
    "url = 'https://api.instagram.com/v1/tags/nofilter/media/recent?access_token='+secret\n",
    "print url"
   ]
  },
  {
   "cell_type": "code",
   "execution_count": 10,
   "metadata": {
    "collapsed": true
   },
   "outputs": [],
   "source": [
    "r = requests.get(url)"
   ]
  },
  {
   "cell_type": "code",
   "execution_count": 11,
   "metadata": {
    "collapsed": false
   },
   "outputs": [
    {
     "data": {
      "text/plain": [
       "{u'meta': {u'code': 400,\n",
       "  u'error_message': u'The access_token provided is invalid.',\n",
       "  u'error_type': u'OAuthAccessTokenException'}}"
      ]
     },
     "execution_count": 11,
     "metadata": {},
     "output_type": "execute_result"
    }
   ],
   "source": [
    "r.json()"
   ]
  },
  {
   "cell_type": "code",
   "execution_count": 25,
   "metadata": {
    "collapsed": true
   },
   "outputs": [],
   "source": [
    "#access_token='559928910.cdbb00f.17f32fbd465446f2982cacb8c010537b'\n",
    "access_token='559928910.cdbb00f.17f32fbd465446f2982cacb8c010537b'"
   ]
  },
  {
   "cell_type": "code",
   "execution_count": 13,
   "metadata": {
    "collapsed": true
   },
   "outputs": [],
   "source": [
    "from instagram.client import InstagramAPI"
   ]
  },
  {
   "cell_type": "code",
   "execution_count": 26,
   "metadata": {
    "collapsed": true
   },
   "outputs": [],
   "source": [
    "client_secret = \"e7438c0488ac4a6d817c5d6f51370767\"\n",
    "api = InstagramAPI(access_token=access_token, client_secret=client_secret)"
   ]
  },
  {
   "cell_type": "code",
   "execution_count": 23,
   "metadata": {
    "collapsed": false
   },
   "outputs": [
    {
     "name": "stdout",
     "output_type": "stream",
     "text": [
      "['__class__', '__delattr__', '__dict__', '__doc__', '__format__', '__getattribute__', '__hash__', '__init__', '__module__', '__new__', '__reduce__', '__reduce_ex__', '__repr__', '__setattr__', '__sizeof__', '__str__', '__subclasshook__', '__weakref__', '_make_relationship_shortcut', '_make_subscription_action', 'access_token', 'access_token_field', 'access_token_url', 'api_name', 'approve_user_request', 'authorize_url', 'base_path', 'block_user', 'change_user_relationship', 'client_id', 'client_ips', 'client_secret', 'create_media_comment', 'create_subscription', 'delete_comment', 'delete_subscriptions', 'exchange_code_for_access_token', 'exchange_user_id_for_access_token', 'exchange_xauth_login_for_access_token', 'follow_user', 'format', 'geography_recent_media', 'get_authorize_login_url', 'get_authorize_url', 'host', 'ignore_user_request', 'like_media', 'list_subscriptions', 'location', 'location_recent_media', 'location_search', 'media', 'media_comments', 'media_likes', 'media_popular', 'media_search', 'media_shortcode', 'protocol', 'redirect_uri', 'tag', 'tag_recent_media', 'tag_search', 'unblock_user', 'unfollow_user', 'unlike_media', 'user', 'user_followed_by', 'user_follows', 'user_incoming_requests', 'user_liked_media', 'user_media_feed', 'user_recent_media', 'user_relationship', 'user_search', 'x_ratelimit', 'x_ratelimit_remaining']\n"
     ]
    }
   ],
   "source": [
    "print dir(api)"
   ]
  },
  {
   "cell_type": "code",
   "execution_count": 27,
   "metadata": {
    "collapsed": false
   },
   "outputs": [
    {
     "data": {
      "text/plain": [
       "[User: roys912]"
      ]
     },
     "execution_count": 27,
     "metadata": {},
     "output_type": "execute_result"
    }
   ],
   "source": [
    "api.user_search('_RoySD')"
   ]
  },
  {
   "cell_type": "code",
   "execution_count": 35,
   "metadata": {
    "collapsed": false
   },
   "outputs": [
    {
     "name": "stdout",
     "output_type": "stream",
     "text": [
      "['__class__', '__delattr__', '__dict__', '__doc__', '__format__', '__getattribute__', '__hash__', '__init__', '__module__', '__new__', '__reduce__', '__reduce_ex__', '__repr__', '__setattr__', '__sizeof__', '__str__', '__subclasshook__', '__weakref__', '_make_relationship_shortcut', '_make_subscription_action', 'access_token', 'access_token_field', 'access_token_url', 'api_name', 'approve_user_request', 'authorize_url', 'base_path', 'block_user', 'change_user_relationship', 'client_id', 'client_ips', 'client_secret', 'create_media_comment', 'create_subscription', 'delete_comment', 'delete_subscriptions', 'exchange_code_for_access_token', 'exchange_user_id_for_access_token', 'exchange_xauth_login_for_access_token', 'follow_user', 'format', 'geography_recent_media', 'get_authorize_login_url', 'get_authorize_url', 'host', 'ignore_user_request', 'like_media', 'list_subscriptions', 'location', 'location_recent_media', 'location_search', 'media', 'media_comments', 'media_likes', 'media_popular', 'media_search', 'media_shortcode', 'protocol', 'redirect_uri', 'tag', 'tag_recent_media', 'tag_search', 'unblock_user', 'unfollow_user', 'unlike_media', 'user', 'user_followed_by', 'user_follows', 'user_incoming_requests', 'user_liked_media', 'user_media_feed', 'user_recent_media', 'user_relationship', 'user_search', 'x_ratelimit', 'x_ratelimit_remaining']\n"
     ]
    }
   ],
   "source": [
    "print dir(api)"
   ]
  },
  {
   "cell_type": "code",
   "execution_count": 57,
   "metadata": {
    "collapsed": false
   },
   "outputs": [
    {
     "name": "stdout",
     "output_type": "stream",
     "text": [
      "Help on method _call in module instagram.bind:\n",
      "\n",
      "_call(api, *args, **kwargs) method of instagram.client.InstagramAPI instance\n",
      "\n"
     ]
    }
   ],
   "source": [
    "help(api.media)"
   ]
  },
  {
   "cell_type": "code",
   "execution_count": 56,
   "metadata": {
    "collapsed": false
   },
   "outputs": [
    {
     "ename": "InstagramAPIError",
     "evalue": "(400) APINotFoundError-this user does not exist",
     "output_type": "error",
     "traceback": [
      "\u001b[0;31m---------------------------------------------------------------------------\u001b[0m",
      "\u001b[0;31mInstagramAPIError\u001b[0m                         Traceback (most recent call last)",
      "\u001b[0;32m<ipython-input-56-ef4a1e7918ab>\u001b[0m in \u001b[0;36m<module>\u001b[0;34m()\u001b[0m\n\u001b[0;32m----> 1\u001b[0;31m \u001b[0mrecent_media\u001b[0m\u001b[0;34m,\u001b[0m \u001b[0mnext_\u001b[0m \u001b[0;34m=\u001b[0m \u001b[0mapi\u001b[0m\u001b[0;34m.\u001b[0m\u001b[0muser_recent_media\u001b[0m\u001b[0;34m(\u001b[0m\u001b[0muser_id\u001b[0m\u001b[0;34m=\u001b[0m\u001b[0;36m205697588\u001b[0m\u001b[0;34m,\u001b[0m \u001b[0mcount\u001b[0m\u001b[0;34m=\u001b[0m\u001b[0;36m10\u001b[0m\u001b[0;34m)\u001b[0m\u001b[0;34m\u001b[0m\u001b[0m\n\u001b[0m",
      "\u001b[0;32m//anaconda/lib/python2.7/site-packages/instagram/bind.pyc\u001b[0m in \u001b[0;36m_call\u001b[0;34m(api, *args, **kwargs)\u001b[0m\n\u001b[1;32m    195\u001b[0m     \u001b[0;32mdef\u001b[0m \u001b[0m_call\u001b[0m\u001b[0;34m(\u001b[0m\u001b[0mapi\u001b[0m\u001b[0;34m,\u001b[0m \u001b[0;34m*\u001b[0m\u001b[0margs\u001b[0m\u001b[0;34m,\u001b[0m \u001b[0;34m**\u001b[0m\u001b[0mkwargs\u001b[0m\u001b[0;34m)\u001b[0m\u001b[0;34m:\u001b[0m\u001b[0;34m\u001b[0m\u001b[0m\n\u001b[1;32m    196\u001b[0m         \u001b[0mmethod\u001b[0m \u001b[0;34m=\u001b[0m \u001b[0mInstagramAPIMethod\u001b[0m\u001b[0;34m(\u001b[0m\u001b[0mapi\u001b[0m\u001b[0;34m,\u001b[0m \u001b[0;34m*\u001b[0m\u001b[0margs\u001b[0m\u001b[0;34m,\u001b[0m \u001b[0;34m**\u001b[0m\u001b[0mkwargs\u001b[0m\u001b[0;34m)\u001b[0m\u001b[0;34m\u001b[0m\u001b[0m\n\u001b[0;32m--> 197\u001b[0;31m         \u001b[0;32mreturn\u001b[0m \u001b[0mmethod\u001b[0m\u001b[0;34m.\u001b[0m\u001b[0mexecute\u001b[0m\u001b[0;34m(\u001b[0m\u001b[0;34m)\u001b[0m\u001b[0;34m\u001b[0m\u001b[0m\n\u001b[0m\u001b[1;32m    198\u001b[0m \u001b[0;34m\u001b[0m\u001b[0m\n\u001b[1;32m    199\u001b[0m     \u001b[0;32mreturn\u001b[0m \u001b[0m_call\u001b[0m\u001b[0;34m\u001b[0m\u001b[0m\n",
      "\u001b[0;32m//anaconda/lib/python2.7/site-packages/instagram/bind.pyc\u001b[0m in \u001b[0;36mexecute\u001b[0;34m(self)\u001b[0m\n\u001b[1;32m    187\u001b[0m                 \u001b[0;32mreturn\u001b[0m \u001b[0mself\u001b[0m\u001b[0;34m.\u001b[0m\u001b[0m_paginator_with_url\u001b[0m\u001b[0;34m(\u001b[0m\u001b[0murl\u001b[0m\u001b[0;34m,\u001b[0m \u001b[0mmethod\u001b[0m\u001b[0;34m,\u001b[0m \u001b[0mbody\u001b[0m\u001b[0;34m,\u001b[0m \u001b[0mheaders\u001b[0m\u001b[0;34m)\u001b[0m\u001b[0;34m\u001b[0m\u001b[0m\n\u001b[1;32m    188\u001b[0m             \u001b[0;32melse\u001b[0m\u001b[0;34m:\u001b[0m\u001b[0;34m\u001b[0m\u001b[0m\n\u001b[0;32m--> 189\u001b[0;31m                 \u001b[0mcontent\u001b[0m\u001b[0;34m,\u001b[0m \u001b[0mnext\u001b[0m \u001b[0;34m=\u001b[0m \u001b[0mself\u001b[0m\u001b[0;34m.\u001b[0m\u001b[0m_do_api_request\u001b[0m\u001b[0;34m(\u001b[0m\u001b[0murl\u001b[0m\u001b[0;34m,\u001b[0m \u001b[0mmethod\u001b[0m\u001b[0;34m,\u001b[0m \u001b[0mbody\u001b[0m\u001b[0;34m,\u001b[0m \u001b[0mheaders\u001b[0m\u001b[0;34m)\u001b[0m\u001b[0;34m\u001b[0m\u001b[0m\n\u001b[0m\u001b[1;32m    190\u001b[0m             \u001b[0;32mif\u001b[0m \u001b[0mself\u001b[0m\u001b[0;34m.\u001b[0m\u001b[0mpaginates\u001b[0m\u001b[0;34m:\u001b[0m\u001b[0;34m\u001b[0m\u001b[0m\n\u001b[1;32m    191\u001b[0m                 \u001b[0;32mreturn\u001b[0m \u001b[0mcontent\u001b[0m\u001b[0;34m,\u001b[0m \u001b[0mnext\u001b[0m\u001b[0;34m\u001b[0m\u001b[0m\n",
      "\u001b[0;32m//anaconda/lib/python2.7/site-packages/instagram/bind.pyc\u001b[0m in \u001b[0;36m_do_api_request\u001b[0;34m(self, url, method, body, headers)\u001b[0m\n\u001b[1;32m    161\u001b[0m                 \u001b[0;32mreturn\u001b[0m \u001b[0mapi_responses\u001b[0m\u001b[0;34m,\u001b[0m \u001b[0mself\u001b[0m\u001b[0;34m.\u001b[0m\u001b[0m_build_pagination_info\u001b[0m\u001b[0;34m(\u001b[0m\u001b[0mcontent_obj\u001b[0m\u001b[0;34m)\u001b[0m\u001b[0;34m\u001b[0m\u001b[0m\n\u001b[1;32m    162\u001b[0m             \u001b[0;32melse\u001b[0m\u001b[0;34m:\u001b[0m\u001b[0;34m\u001b[0m\u001b[0m\n\u001b[0;32m--> 163\u001b[0;31m                 \u001b[0;32mraise\u001b[0m \u001b[0mInstagramAPIError\u001b[0m\u001b[0;34m(\u001b[0m\u001b[0mstatus_code\u001b[0m\u001b[0;34m,\u001b[0m \u001b[0mcontent_obj\u001b[0m\u001b[0;34m[\u001b[0m\u001b[0;34m'meta'\u001b[0m\u001b[0;34m]\u001b[0m\u001b[0;34m[\u001b[0m\u001b[0;34m'error_type'\u001b[0m\u001b[0;34m]\u001b[0m\u001b[0;34m,\u001b[0m \u001b[0mcontent_obj\u001b[0m\u001b[0;34m[\u001b[0m\u001b[0;34m'meta'\u001b[0m\u001b[0;34m]\u001b[0m\u001b[0;34m[\u001b[0m\u001b[0;34m'error_message'\u001b[0m\u001b[0;34m]\u001b[0m\u001b[0;34m)\u001b[0m\u001b[0;34m\u001b[0m\u001b[0m\n\u001b[0m\u001b[1;32m    164\u001b[0m \u001b[0;34m\u001b[0m\u001b[0m\n\u001b[1;32m    165\u001b[0m         \u001b[0;32mdef\u001b[0m \u001b[0m_paginator_with_url\u001b[0m\u001b[0;34m(\u001b[0m\u001b[0mself\u001b[0m\u001b[0;34m,\u001b[0m \u001b[0murl\u001b[0m\u001b[0;34m,\u001b[0m \u001b[0mmethod\u001b[0m\u001b[0;34m=\u001b[0m\u001b[0;34m\"GET\"\u001b[0m\u001b[0;34m,\u001b[0m \u001b[0mbody\u001b[0m\u001b[0;34m=\u001b[0m\u001b[0mNone\u001b[0m\u001b[0;34m,\u001b[0m \u001b[0mheaders\u001b[0m\u001b[0;34m=\u001b[0m\u001b[0mNone\u001b[0m\u001b[0;34m)\u001b[0m\u001b[0;34m:\u001b[0m\u001b[0;34m\u001b[0m\u001b[0m\n",
      "\u001b[0;31mInstagramAPIError\u001b[0m: (400) APINotFoundError-this user does not exist"
     ]
    }
   ],
   "source": [
    "recent_media, next_ = api.user_recent_media(user_id=205697588, count=10)"
   ]
  },
  {
   "cell_type": "code",
   "execution_count": 41,
   "metadata": {
    "collapsed": true
   },
   "outputs": [],
   "source": [
    "hdaturl = 'https://www.instagram.com/techturnip_01/?__a=1'"
   ]
  },
  {
   "cell_type": "code",
   "execution_count": 58,
   "metadata": {
    "collapsed": true
   },
   "outputs": [],
   "source": [
    "hdat = requests.get('https://www.instagram.com/techturnip_01/?__a=1&page=3')"
   ]
  },
  {
   "cell_type": "code",
   "execution_count": 59,
   "metadata": {
    "collapsed": false
   },
   "outputs": [],
   "source": [
    "dat = hdat.json()"
   ]
  },
  {
   "cell_type": "code",
   "execution_count": 60,
   "metadata": {
    "collapsed": false
   },
   "outputs": [
    {
     "data": {
      "text/plain": [
       "{u'biography': u'\\U0001f938\\U0001f3fc\\u200d\\u2640\\ufe0fTruFusion Certified Yoga Instructor\\n\\U0001f64f\\U0001f3fb Health & Wellness. Sensualist. \\U0001f444\\n\\U0001f918\\U0001f3fbSnapchat: techturnip_01 \\u2649\\ufe0f',\n",
       " u'blocked_by_viewer': False,\n",
       " u'connected_fb_page': None,\n",
       " u'country_block': False,\n",
       " u'external_url': None,\n",
       " u'external_url_linkshimmed': None,\n",
       " u'followed_by': {u'count': 690},\n",
       " u'followed_by_viewer': False,\n",
       " u'follows': {u'count': 358},\n",
       " u'follows_viewer': False,\n",
       " u'full_name': u'Parker',\n",
       " u'has_blocked_viewer': False,\n",
       " u'has_requested_viewer': False,\n",
       " u'id': u'205697588',\n",
       " u'is_private': False,\n",
       " u'is_verified': False,\n",
       " u'media': {u'count': 232,\n",
       "  u'nodes': [{u'__typename': u'GraphVideo',\n",
       "    u'caption': u\"Figured I'd take advantage of reception being off for the holiday and do a quick sesh while at the office. Thankfully Regus doesn't have cameras \\U0001f61dHappy 4th, Y'all! #murica #yoga #work #office #officeyoga #corporateyoga #stretch #stretchatwork #yogi #dancerspose #warrior2 #virabhadrasana2 #triangle #trianglepose #trikonasana #sideangle #sideanglepose #extendedsideangle #utthitaparsvakonasana #july4 #independenceday Music \\U0001f3b6 : #allweneed #odesza #shygirls\",\n",
       "    u'code': u'BWJJ-QYAEoF',\n",
       "    u'comments': {u'count': 3},\n",
       "    u'comments_disabled': False,\n",
       "    u'date': 1499210833,\n",
       "    u'dimensions': {u'height': 421, u'width': 750},\n",
       "    u'display_src': u'https://scontent-lga3-1.cdninstagram.com/t51.2885-15/e15/19764930_113291469293461_2058675410924732416_n.jpg',\n",
       "    u'gating_info': None,\n",
       "    u'id': u'1551815407214545413',\n",
       "    u'is_video': True,\n",
       "    u'likes': {u'count': 71},\n",
       "    u'media_preview': u'ACoX508UA1M53OD2yP512FmY9mTt/Sgdzi805l4Jz3rrTfWok/hweM7Rx+lVrto5Zonj2lQHz06gd/6UWC5yvWlxUso+YnsWOPzqGgCy8RQAnnmpjc8YVdoHoev6UUVJVhituPp355z+n/66ebolVXaDtOc9yMYwcdqKKYFZue2Pxpm2iimI/9k=',\n",
       "    u'owner': {u'id': u'205697588'},\n",
       "    u'thumbnail_resources': [],\n",
       "    u'thumbnail_src': u'https://scontent-lga3-1.cdninstagram.com/t51.2885-15/e15/c157.0.405.405/19764930_113291469293461_2058675410924732416_n.jpg',\n",
       "    u'video_views': 164},\n",
       "   {u'__typename': u'GraphImage',\n",
       "    u'caption': u'Pipes. #pipes #manhattan #manhattanbeach #manhattanpier #beachliving #southbay #elpuerto #beachcities #surf #surfing #surfers #water #ocean ##pacificocean #sand #sandinmyhair #sandinmytoes',\n",
       "    u'code': u'BV5o3hbgOC9',\n",
       "    u'comments': {u'count': 2},\n",
       "    u'comments_disabled': False,\n",
       "    u'date': 1498690160,\n",
       "    u'dimensions': {u'height': 1349, u'width': 1080},\n",
       "    u'display_src': u'https://scontent-lga3-1.cdninstagram.com/t51.2885-15/e35/19429562_1489664234428851_6036266175896223744_n.jpg',\n",
       "    u'gating_info': None,\n",
       "    u'id': u'1547447684305051837',\n",
       "    u'is_video': False,\n",
       "    u'likes': {u'count': 82},\n",
       "    u'media_preview': u'ACEqwQc/hVld7DgZH4VuvapNYozDDJGCGHUcc/hXMAP2+o7fjSsNMtNFIf4T+lQNweRimjeeBkk9h3roNIsUljMsg3ZyAD0GevHr/nrQBgbhRUG2inYDsoXP2EAj/lkR+hFc7MAEj7fIOnXqa6JJCLDgZPlHr9DWRHJFAqFgSzIv5c4+lMRFp6gzAjPDAgHrjmtzRyUthkd2P61RimjkYBQQUOR06gH07e3etDTGxagN8rYbj8TQBynFFVtxopAb8MjrGI2PAGMD0prIjdQDjgewHag0lMBY1WM7lGDnNTx3BhTYmMc8EevvVXPIqQUAZv2FvUfrRWrRSA//2Q==',\n",
       "    u'owner': {u'id': u'205697588'},\n",
       "    u'thumbnail_resources': [],\n",
       "    u'thumbnail_src': u'https://scontent-lga3-1.cdninstagram.com/t51.2885-15/s640x640/sh0.08/e35/c0.117.937.937/19429562_1489664234428851_6036266175896223744_n.jpg'},\n",
       "   {u'__typename': u'GraphVideo',\n",
       "    u'caption': u'The ChainSmoker Affect #cousin #family #sing #dance #sway #love #behappy #momentslikethese #chainsmokers #xs #vegas #lasvegas #vegasnightlife #vegasnights #vegasstrip #vegas2017 #vegasbaby #vegasmodel #lasvegasblvd #lasvegasxs #xslasvegas #live @mirandaaaa_marieee',\n",
       "    u'code': u'BVaMzfuAAI1',\n",
       "    u'comments': {u'count': 3},\n",
       "    u'comments_disabled': False,\n",
       "    u'date': 1497635260,\n",
       "    u'dimensions': {u'height': 936, u'width': 750},\n",
       "    u'display_src': u'https://scontent-lga3-1.cdninstagram.com/t51.2885-15/e15/19227693_1894672210795708_1924230015298306048_n.jpg',\n",
       "    u'gating_info': None,\n",
       "    u'id': u'1538598538009641525',\n",
       "    u'is_video': True,\n",
       "    u'likes': {u'count': 88},\n",
       "    u'media_preview': u'ACEqzbQ+VOpALYYcdOD3qw9t5skm0gbXIySAvU5GfX/69UElMLEdc8c9+9X7aHzAXl+YE5x9e+PWpbtqaX7Ak/lzDYM5BwM8HPHPqPb6VYi3xsGcDgj349Ofaqsce2YKM4Un6jIH8qtXDHYRySfxx9AKVxNl77da/wCc0VjbIPU/5/CimIZFZGVSw4AA4Pc4qVXWCHg5I7E87v8A61WfM8m33DqFGPrWKMEHPXt6kmpWu4nodNaQqsYZxl35J+vSmzxAMT7ZpZJ1to13nGAB7/lVc3qS5AOOM5PAoIT1uM8tfaim7rb1P5UVVvMu/l+BTmJeBSvQYzVKL76/7w/nV2z5jYHpz/Kq1oMyDNC0uDNy6hS6YFiV2jHGO9QvbRiIxp1JGS2e305/Klj+8577z/SpJOtK5NjL+xy/3U/76/8Ar0VoYoouWf/Z',\n",
       "    u'owner': {u'id': u'205697588'},\n",
       "    u'thumbnail_resources': [],\n",
       "    u'thumbnail_src': u'https://scontent-lga3-1.cdninstagram.com/t51.2885-15/s640x640/e15/c0.89.720.720/19227693_1894672210795708_1924230015298306048_n.jpg',\n",
       "    u'video_views': 322},\n",
       "   {u'__typename': u'GraphImage',\n",
       "    u'caption': u\"@mjl.photography.nyc utilizing his badass capturing stills in the midst of my teeter-tottering @madisonsquarepark this afternoon. There so happened to be a gorgeously painted piano present, made available to the public by @singforhope and I couldn't resist climbing on top of it to attempt poses. The beautiful colors matched my @niyamasol leggings, I was absolutely ecstatic when I seen it! People would walk up and play then just continue walking during our photo shoot and it was the most beautiful thing ever. So calming and energizing at the same time. People are awesome, life is beautiful \\U0001f64f\\U0001f3fb Feel free to follow my yoga page: @techiyogi #yogi #yoga #yogainspiration #yogainthepark #yogapants #yogaposes #yogadaily #yogalover #yogajourney #yogaforlife #stretching #yogaeverydamnday #madisonpark #hotyoga #niyamasol #niyamasolleggings #love #singforhope #pianoforhope #nyc #nycyoga #yogaleggings #yogafashion #cityyoga #yogaposes #inflexibleyogi #inflexibleyogis #beautifulpeople #nycnatives #singforhopepianos #mysolstyle\",\n",
       "    u'code': u'BVWYiw8A6-E',\n",
       "    u'comments': {u'count': 8},\n",
       "    u'comments_disabled': False,\n",
       "    u'date': 1497507197,\n",
       "    u'dimensions': {u'height': 748, u'width': 750},\n",
       "    u'display_src': u'https://scontent-lga3-1.cdninstagram.com/t51.2885-15/e35/19227559_1357196431036065_8356621974092382208_n.jpg',\n",
       "    u'gating_info': None,\n",
       "    u'id': u'1537524264918560644',\n",
       "    u'is_video': False,\n",
       "    u'likes': {u'count': 162},\n",
       "    u'media_preview': u'ACop6HO5c+o/mKzniEflyH7seB6nk/8A16xI7y4TAWQ49Dg/zq5HfTlhG2zaCDkjsOR0OO3NAD7GWFC+4/OZWI9xnjn3OelaUskUcRkcKFbqRznPvxmucto1kk3u2F5Y4xzk9Off8qv30q3EPkgHKEMcdAoBGSfx9Kkq2hHPBF9neaE/L0wRyMnvnnjPHt61opHEqhcvwAOrdvpWaE2WUufVP5itdlJJOT1NJq4rHKW5EkihtuAck45wOefyq/ELeRyXO0HIyO4qsIEAO1XGeOo/+Jpv2dMfdfPrn/61b+zYi5NHDt8q3AZTySx+Ye+ew+mPek+RT82c/dYgnBHYHnH+NUTEwGBkA+1OiUoCGBYHt6e4PrScJdB+RrTOskRjBA34/Qg/0qx9tWsnIjA5wGGQDyRnI9u9WVQEAhv/AB0f41g7p2JuUsT/AN7/AMeH+NGJv73/AI8P8agorusUT7Zf73/jw/xpdsv97/x4f41Xop2AWYHgk7nAIOSMdT0PT/Oaj/eHpn9f8Kll7VUPWuWS1Yj/2Q==',\n",
       "    u'owner': {u'id': u'205697588'},\n",
       "    u'thumbnail_resources': [],\n",
       "    u'thumbnail_src': u'https://scontent-lga3-1.cdninstagram.com/t51.2885-15/s640x640/sh0.08/e35/c0.0.743.743/19227559_1357196431036065_8356621974092382208_n.jpg'},\n",
       "   {u'__typename': u'GraphVideo',\n",
       "    u'caption': u\"I don't like it, I love it. \\U0001f49aFollow my IG yoga page: @techiyogi #inflexibleyogis  #stretching between #hotyoga #signatureseries classes @trufusion\",\n",
       "    u'code': u'BUfKK41Ajeq',\n",
       "    u'comments': {u'count': 1},\n",
       "    u'comments_disabled': False,\n",
       "    u'date': 1495654167,\n",
       "    u'dimensions': {u'height': 750, u'width': 750},\n",
       "    u'display_src': u'https://scontent-lga3-1.cdninstagram.com/t51.2885-15/e15/18644888_1536155059730555_9117682151649705984_n.jpg',\n",
       "    u'gating_info': None,\n",
       "    u'id': u'1521979927753275306',\n",
       "    u'is_video': True,\n",
       "    u'likes': {u'count': 57},\n",
       "    u'media_preview': u'ACoqyzGAMntUqov/AOoipVy4yvBH+f8AP+HRVkdeo/z/AJ/OpbsWiG5j8rGMY96rId2c4GKt3P7zBK8jjOe30xSW1sZSQI95H+0R/SmtRAkQZQc4yKXyB6j9f8KtRWzsvAxjjaOcfiatDTz6/oazc0h2KbRyr3DAdN2cj8fT26e1W4pEUAMgJ9+f1IqxdTBmj6dT+QOBVOS5a4bLALgcEAkVo43VmSvIW6dJk2qoQg54FU4reQHhsfQsOPwpxlEZIfnnGR0GRke9allhnHQgg/ypRjyqyG/MnRsL8oUY9j/hTDuz/wDr/wAKkgO7f/s5xUP2hqSgo6ILmZJZssix7ACwOAHJB/E8iknUxOUdduQONxIx9a2Jv+PyP/dP9azdW/1//AR/WtGyUUHwfboepOcZ9qtWwLOAgLn+7krxj17VSrT0v/XD6GkmU1oPhSTc6qpJ5yN+MfjjmoMt6H/vof4Vr2v+ul+tZjdTTb8iUj//2Q==',\n",
       "    u'owner': {u'id': u'205697588'},\n",
       "    u'thumbnail_resources': [],\n",
       "    u'thumbnail_src': u'https://scontent-lga3-1.cdninstagram.com/t51.2885-15/s640x640/e15/18644888_1536155059730555_9117682151649705984_n.jpg',\n",
       "    u'video_views': 282},\n",
       "   {u'__typename': u'GraphImage',\n",
       "    u'caption': u\"Babysitting today \\U0001f48e She's pretty \\U0001f60d #Maserati #granturismo #legs #legsfordays #model #vegas #vegaslife #vegasnightlife\",\n",
       "    u'code': u'BUYc5YAACCK',\n",
       "    u'comments': {u'count': 0},\n",
       "    u'comments_disabled': False,\n",
       "    u'date': 1495429104,\n",
       "    u'dimensions': {u'height': 1120, u'width': 1080},\n",
       "    u'display_src': u'https://scontent-lga3-1.cdninstagram.com/t51.2885-15/e35/18644782_134901437057212_2679885517679493120_n.jpg',\n",
       "    u'gating_info': None,\n",
       "    u'id': u'1520091962319839370',\n",
       "    u'is_video': False,\n",
       "    u'likes': {u'count': 91},\n",
       "    u'media_preview': u'ACkqwq1ZJRMA7Bd2OwxisqnqxAHcH/OKAJ3b0poncEEndt6buf8AP06U9WXaQQd3b0981CAScDrRcRGTk59aSlpKBhU1lEJH2OwRD1/+tUNbcenJJGpcbXIycdPy/n70AUJ0EUhjQ7wMYPrmq9wskMjQ9Tnkjv6fStf+zVB25PTJpl7ppgiEkX0OevtikO1jH6UUUUxBXaom7pXFV6AgwBQMqrGNzn0IH5Cp54xLGynuP/1frTU/j/3v6CpT938KhdRs4Ckpz/eP1P8AOm1ZJ//Z',\n",
       "    u'owner': {u'id': u'205697588'},\n",
       "    u'thumbnail_resources': [],\n",
       "    u'thumbnail_src': u'https://scontent-lga3-1.cdninstagram.com/t51.2885-15/s640x640/sh0.08/e35/c0.14.777.777/18644782_134901437057212_2679885517679493120_n.jpg'},\n",
       "   {u'__typename': u'GraphImage',\n",
       "    u'caption': u'Follow my yogi page: @techiyogi Being tossed around by @nickd_pudja #Yoga #acroyoga #acroyogafun #acroyogaaddicts #humangym #flyer #base #baselove #superman #flying #yogastudents #fun #frontbird #namaste',\n",
       "    u'code': u'BTx1nIiAE3W',\n",
       "    u'comments': {u'count': 0},\n",
       "    u'comments_disabled': False,\n",
       "    u'date': 1494133439,\n",
       "    u'dimensions': {u'height': 607, u'width': 1080},\n",
       "    u'display_src': u'https://scontent-lga3-1.cdninstagram.com/t51.2885-15/e35/18298391_142316999642632_2931855215822897152_n.jpg',\n",
       "    u'gating_info': None,\n",
       "    u'id': u'1509223135830887894',\n",
       "    u'is_video': False,\n",
       "    u'likes': {u'count': 77},\n",
       "    u'media_preview': u'ACoXqbKXZVwQmnCGuowuUwlKVC9eKsSWjufkbZnrx196SCzU/vGJkY5GT0GDjgdO1K/Sw/O5GqZGaXy60BDTTGM9vzp3EZgaZSSpI3HPOP8AP5VLJLKxBVwB1wOOn4d/yoorjcn3N7IRrucjGBkHIIwM/XnufpUcBdTvY7XBPA6Y/P60UVDk2HkOmnZjlic/p+QGKqG4Hp+v/wBaiiqWu4j/2Q==',\n",
       "    u'owner': {u'id': u'205697588'},\n",
       "    u'thumbnail_resources': [],\n",
       "    u'thumbnail_src': u'https://scontent-lga3-1.cdninstagram.com/t51.2885-15/e35/c236.0.607.607/18298391_142316999642632_2931855215822897152_n.jpg'},\n",
       "   {u'__typename': u'GraphImage',\n",
       "    u'caption': u\"Follow my new IG page: @techiyogi documenting my experience through my wonderful Yoga Teacher Training. I am so excited, guys! This has been something I've wanted to do for so long and am finally giving back to me that I may continue to encourage peace and love in others \\U0001f49a #YTT #yoga #yogi #yogateacher #yogateachertraining #yogaclass #classmates #instructor #meditation #om #chant #tibetanbowl #relaxation #peace #love #documenting #documentation #namaste #vigorous #training\",\n",
       "    u'code': u'BTS74Eyg91B',\n",
       "    u'comments': {u'count': 5},\n",
       "    u'comments_disabled': False,\n",
       "    u'date': 1493096536,\n",
       "    u'dimensions': {u'height': 750, u'width': 750},\n",
       "    u'display_src': u'https://scontent-lga3-1.cdninstagram.com/t51.2885-15/e35/18160498_299517253802510_206572881667162112_n.jpg',\n",
       "    u'gating_info': None,\n",
       "    u'id': u'1500524964045118785',\n",
       "    u'is_video': False,\n",
       "    u'likes': {u'count': 53},\n",
       "    u'media_preview': u'ACoq02VBgc7m6Dnt9KUQhSMZzn1qrdNtByfuDr0H6ev41kPfSb93GRgDPYf/AF+/0FMR1LtsUsOcVCLlv7v+fyrLhn3IFPG3jg8HJ6+mBjH50skjRDGecZ5/w496Vm3ZBotWbEcnmKW6Yz79K53zWPOT+ZqxbzFl8slQq88ZGSRiqRVl49OKpJkskvLkHfGuDyR9FGMH880n2DbbeecZOGAJ5x3GO+SRiqIQnJY4GcH/APV1q4dRbyfIIORgb88gA8cY+g/+vQUEXyt5YGCQOD7gD8sk5pS29dhI8wgAZz0wT16c9P0qpHcmM8dPzP4eme/rT96ySiQcEg/Lz1xhQP8AezS1Wo9xbeZEjZj9/IwMkZB6/l1prPycE4zU32dY3VpRgAKDH33AYIPYD+InPIPGaqNGQTwetNSCxM5JJJOSe59ulWPOcKNrYPTjjg9c46/jVY96kzxWRdiHys9qUIRUmeKYSaLhYk3ttZcnDHJBOcn15Gc1HtpuaM0CP//Z',\n",
       "    u'owner': {u'id': u'205697588'},\n",
       "    u'thumbnail_resources': [],\n",
       "    u'thumbnail_src': u'https://scontent-lga3-1.cdninstagram.com/t51.2885-15/s640x640/sh0.08/e35/18160498_299517253802510_206572881667162112_n.jpg'},\n",
       "   {u'__typename': u'GraphVideo',\n",
       "    u'caption': u\"Quick stretch before a quick run. I've been slacking in my yoga and workouts for a month so my form is not 100, but will come back strong \\U0001f4aa\\U0001f3fb #stretch #stretching #stretchingtime #yoga #open #openingup #downwarddog #cobra #legs #legsfordays #hamstringstretch #damnhamstrings #back #backstretch #fast #times2.7\",\n",
       "    u'code': u'BS2ti3ngk0f',\n",
       "    u'comments': {u'count': 4},\n",
       "    u'comments_disabled': False,\n",
       "    u'date': 1492149498,\n",
       "    u'dimensions': {u'height': 421, u'width': 750},\n",
       "    u'display_src': u'https://scontent-lga3-1.cdninstagram.com/t51.2885-15/e15/17663078_596567853873707_7285497292709167104_n.jpg',\n",
       "    u'gating_info': None,\n",
       "    u'id': u'1492580634793757983',\n",
       "    u'is_video': True,\n",
       "    u'likes': {u'count': 85},\n",
       "    u'media_preview': u'ACoX2wxjfGDj/PNU9QiMoBjGTnnH86vTspGH4B7is+4Bhi2w5ZmHU8bR/TPelew9yNS9kEQn55TjGeFH9T71WnMnmlXBOD1x1HYj60kzFmUy5Upjnrj691PfuCKtxsSAzkAoSEbqrA+oB6D8CD7UrjS6lyNUjTKkhj1//VURmP1/GoHYjOeCTgAdyfT68n6VFhR1Bz9f/rUmxpGhMN7gkdBwD0+p/wAO/esm+YM+VJ5AHPfP8qKKXUDGYtk+nPepY7lx8mN2/jBPGegII6YooqyS204O3ktGiscnhgQMYB9N2CPbg96qecD3/nRRSA//2Q==',\n",
       "    u'owner': {u'id': u'205697588'},\n",
       "    u'thumbnail_resources': [],\n",
       "    u'thumbnail_src': u'https://scontent-lga3-1.cdninstagram.com/t51.2885-15/e15/c157.0.405.405/17663078_596567853873707_7285497292709167104_n.jpg',\n",
       "    u'video_views': 406},\n",
       "   {u'__typename': u'GraphImage',\n",
       "    u'caption': u'I am here to break your balls \\U0001f44f\\U0001f3fb 1x11.25x12.8 #balls #break #ballbreaker #racked #pool #triangle #dimensions #numbers #numbersandballs #makeyourownluck #breakeverythingbutyou #balls #breakballs',\n",
       "    u'code': u'BS0vlbrAZPK',\n",
       "    u'comments': {u'count': 2},\n",
       "    u'comments_disabled': False,\n",
       "    u'date': 1492083459,\n",
       "    u'dimensions': {u'height': 750, u'width': 750},\n",
       "    u'display_src': u'https://scontent-lga3-1.cdninstagram.com/t51.2885-15/e35/17882864_1840539866163443_4754678965908537344_n.jpg',\n",
       "    u'gating_info': None,\n",
       "    u'id': u'1492026657085690826',\n",
       "    u'is_video': False,\n",
       "    u'likes': {u'count': 34},\n",
       "    u'media_preview': u'ACoqy47FHRXDk7zgALk7u469vXpjmlXTWLGP5w+M42jGPXO7FM0658mQAkAE8E9FboCfY52t7HPYVpPe3QZpyqKI/wB2UPI659ck5GcipdykrlFNNL5xvyhww2jg+g+fnjnik/s8bPOBYx9c7RnA4J27s4B6mr1lqEm4B2Umd8nII29sg9DxwB/9erz25UizEmEdWO3jecHoGxwGznBHYgHHRXewjG/svGC5KKwyCQOnXkBuDjJH0NZRxnjkdq3dRnkhjMDPvGcIcDO0dckdTn5fwb1rBqkDCtLP2qPJOGjwH916K+PVfut7bT61nVLBMYXDjnHUHoQeCD7EcUwTsX7ZLUuwYnaPu7u/r7df6U2OJXYowOWPyseiqOS2fYDpVtLNrjakRAiX50PUnJ5B91IIP/1xTb+R4UMb4Dt8ox2jHU+248fQGo05rJ/1/VjTRw10aehlXEolckcKPlUeijgD+p981BS0lWZC0UUUAaenXSofKlJVDkqwJG1seo7MOo9QKp3M5nkL9ug9gOB+nX3yagoo8wEooooA/9k=',\n",
       "    u'owner': {u'id': u'205697588'},\n",
       "    u'thumbnail_resources': [],\n",
       "    u'thumbnail_src': u'https://scontent-lga3-1.cdninstagram.com/t51.2885-15/s640x640/sh0.08/e35/17882864_1840539866163443_4754678965908537344_n.jpg'},\n",
       "   {u'__typename': u'GraphImage',\n",
       "    u'code': u'BR7e9tXgkpj',\n",
       "    u'comments': {u'count': 3},\n",
       "    u'comments_disabled': False,\n",
       "    u'date': 1490162142,\n",
       "    u'dimensions': {u'height': 750, u'width': 750},\n",
       "    u'display_src': u'https://scontent-lga3-1.cdninstagram.com/t51.2885-15/e35/17437704_1819880664939987_8461478760196079616_n.jpg',\n",
       "    u'gating_info': None,\n",
       "    u'id': u'1475909484890180195',\n",
       "    u'is_video': False,\n",
       "    u'likes': {u'count': 64},\n",
       "    u'media_preview': u'ACoq2NwpNw9aj/x/z2pP8/54oAl3CjcPWov8/wCeKX/P+eKAJNw9adUH+f8APFTjpQBCeD/+qk/z2qXaKNo/yaAIv89qP8/41LtFG0f5JoAi4/zipR+NKFApaACirmBRgUAU6KuYFGBQBToq5gUYFAH/2Q==',\n",
       "    u'owner': {u'id': u'205697588'},\n",
       "    u'thumbnail_resources': [],\n",
       "    u'thumbnail_src': u'https://scontent-lga3-1.cdninstagram.com/t51.2885-15/s640x640/sh0.08/e35/17437704_1819880664939987_8461478760196079616_n.jpg'},\n",
       "   {u'__typename': u'GraphImage',\n",
       "    u'caption': u'But do you see this pose?! Do you see it?! She has the whole \"millennials putting their leg in front of the other\" thing down! Baby Girl. #catsofinstagram #catofinstagram #catstagram #cats #cat #catwang #catoftheday #bay #babygirl #callie #pretty',\n",
       "    u'code': u'BR5XYIsgMP_',\n",
       "    u'comments': {u'count': 2},\n",
       "    u'comments_disabled': False,\n",
       "    u'date': 1490091056,\n",
       "    u'dimensions': {u'height': 1349, u'width': 1080},\n",
       "    u'display_src': u'https://scontent-lga3-1.cdninstagram.com/t51.2885-15/e35/17438666_1909487309279738_5411074243616047104_n.jpg',\n",
       "    u'gating_info': None,\n",
       "    u'id': u'1475313166614316031',\n",
       "    u'is_video': False,\n",
       "    u'likes': {u'count': 63},\n",
       "    u'media_preview': u'ACEqpzBWCt32L09QPQfnUsECSruAYY6k8jGPpj9e9akdgiYJ+Yj16VLO21QgwCe3sOvH5VFzQw7gIuNh+9+R/wAKq+Szc9s9a0ZozkjAIx8v/wBfH+etSQx7VPQZI/l2ouBkeQ9Fbuz/ADj/AOtRSu+xWnct3F1HbLukPXoB1P0/xPFYf9oGWYyYwAAFHoPf3Pest5Wkbc5LH1NOVcYPUd6Yjonuo2j3txjt1z9KWyj+1wlm5IYgY4IHBFZDWcjYKglfX3rStBJApVDtB6nGT+HYUxFz7PJ70UzEn99/zopiOVc/MT0BJpyKzfdGTV2FQTyAaklJDKBxk81FzSxfSdFQKM5x8y5zg9+egpVcjnsarQD5cds08GqILvnCioNo9BRTuI//2Q==',\n",
       "    u'owner': {u'id': u'205697588'},\n",
       "    u'thumbnail_resources': [],\n",
       "    u'thumbnail_src': u'https://scontent-lga3-1.cdninstagram.com/t51.2885-15/s640x640/sh0.08/e35/c0.117.937.937/17438666_1909487309279738_5411074243616047104_n.jpg'}],\n",
       "  u'page_info': {u'end_cursor': u'AQDu4jvWCgfYX7UiXDBvZsHvHd1A9deSKn8nwvmTjxA3ZHkrjqZhO8BzUyMlwPQMr9NcJnfoR2S3bBXx1XdKFXiORR0eCrbajynk2kvjSvkCCQ',\n",
       "   u'has_next_page': True}},\n",
       " u'profile_pic_url': u'https://scontent-lga3-1.cdninstagram.com/t51.2885-19/s150x150/14134954_692274200935354_263986344_a.jpg',\n",
       " u'profile_pic_url_hd': u'https://scontent-lga3-1.cdninstagram.com/t51.2885-19/s320x320/14134954_692274200935354_263986344_a.jpg',\n",
       " u'requested_by_viewer': False,\n",
       " u'username': u'techturnip_01'}"
      ]
     },
     "execution_count": 60,
     "metadata": {},
     "output_type": "execute_result"
    }
   ],
   "source": [
    "dat['user']\n",
    "#print len(dat['user']['media']['nodes'])"
   ]
  },
  {
   "cell_type": "code",
   "execution_count": 73,
   "metadata": {
    "collapsed": false
   },
   "outputs": [
    {
     "name": "stdout",
     "output_type": "stream",
     "text": [
      "https://api.instagram.com/v1/users/205697588/access_token=559928910.cdbb00f.17f32fbd465446f2982cacb8c010537b\n"
     ]
    }
   ],
   "source": [
    "hashtag = 'vegas'\n",
    "nextUrl = \"https://api.instagram.com/v1/users/205697588/access_token=\"+access_token\n",
    "print nextUrl"
   ]
  },
  {
   "cell_type": "code",
   "execution_count": 70,
   "metadata": {
    "collapsed": true
   },
   "outputs": [],
   "source": [
    "res = requests.get(nextUrl)"
   ]
  },
  {
   "cell_type": "code",
   "execution_count": 71,
   "metadata": {
    "collapsed": false
   },
   "outputs": [
    {
     "ename": "JSONDecodeError",
     "evalue": "Expecting value: line 1 column 1 (char 0)",
     "output_type": "error",
     "traceback": [
      "\u001b[0;31m---------------------------------------------------------------------------\u001b[0m",
      "\u001b[0;31mJSONDecodeError\u001b[0m                           Traceback (most recent call last)",
      "\u001b[0;32m<ipython-input-71-ab059a4af54a>\u001b[0m in \u001b[0;36m<module>\u001b[0;34m()\u001b[0m\n\u001b[0;32m----> 1\u001b[0;31m \u001b[0mres\u001b[0m\u001b[0;34m.\u001b[0m\u001b[0mjson\u001b[0m\u001b[0;34m(\u001b[0m\u001b[0;34m)\u001b[0m\u001b[0;34m\u001b[0m\u001b[0m\n\u001b[0m",
      "\u001b[0;32m//anaconda/lib/python2.7/site-packages/requests/models.pyc\u001b[0m in \u001b[0;36mjson\u001b[0;34m(self, **kwargs)\u001b[0m\n\u001b[1;32m    848\u001b[0m                     \u001b[0;31m# used.\u001b[0m\u001b[0;34m\u001b[0m\u001b[0;34m\u001b[0m\u001b[0m\n\u001b[1;32m    849\u001b[0m                     \u001b[0;32mpass\u001b[0m\u001b[0;34m\u001b[0m\u001b[0m\n\u001b[0;32m--> 850\u001b[0;31m         \u001b[0;32mreturn\u001b[0m \u001b[0mcomplexjson\u001b[0m\u001b[0;34m.\u001b[0m\u001b[0mloads\u001b[0m\u001b[0;34m(\u001b[0m\u001b[0mself\u001b[0m\u001b[0;34m.\u001b[0m\u001b[0mtext\u001b[0m\u001b[0;34m,\u001b[0m \u001b[0;34m**\u001b[0m\u001b[0mkwargs\u001b[0m\u001b[0;34m)\u001b[0m\u001b[0;34m\u001b[0m\u001b[0m\n\u001b[0m\u001b[1;32m    851\u001b[0m \u001b[0;34m\u001b[0m\u001b[0m\n\u001b[1;32m    852\u001b[0m     \u001b[0;34m@\u001b[0m\u001b[0mproperty\u001b[0m\u001b[0;34m\u001b[0m\u001b[0m\n",
      "\u001b[0;32m//anaconda/lib/python2.7/site-packages/simplejson/__init__.pyc\u001b[0m in \u001b[0;36mloads\u001b[0;34m(s, encoding, cls, object_hook, parse_float, parse_int, parse_constant, object_pairs_hook, use_decimal, **kw)\u001b[0m\n\u001b[1;32m    514\u001b[0m             \u001b[0mparse_constant\u001b[0m \u001b[0;32mis\u001b[0m \u001b[0mNone\u001b[0m \u001b[0;32mand\u001b[0m \u001b[0mobject_pairs_hook\u001b[0m \u001b[0;32mis\u001b[0m \u001b[0mNone\u001b[0m\u001b[0;34m\u001b[0m\u001b[0m\n\u001b[1;32m    515\u001b[0m             and not use_decimal and not kw):\n\u001b[0;32m--> 516\u001b[0;31m         \u001b[0;32mreturn\u001b[0m \u001b[0m_default_decoder\u001b[0m\u001b[0;34m.\u001b[0m\u001b[0mdecode\u001b[0m\u001b[0;34m(\u001b[0m\u001b[0ms\u001b[0m\u001b[0;34m)\u001b[0m\u001b[0;34m\u001b[0m\u001b[0m\n\u001b[0m\u001b[1;32m    517\u001b[0m     \u001b[0;32mif\u001b[0m \u001b[0mcls\u001b[0m \u001b[0;32mis\u001b[0m \u001b[0mNone\u001b[0m\u001b[0;34m:\u001b[0m\u001b[0;34m\u001b[0m\u001b[0m\n\u001b[1;32m    518\u001b[0m         \u001b[0mcls\u001b[0m \u001b[0;34m=\u001b[0m \u001b[0mJSONDecoder\u001b[0m\u001b[0;34m\u001b[0m\u001b[0m\n",
      "\u001b[0;32m//anaconda/lib/python2.7/site-packages/simplejson/decoder.pyc\u001b[0m in \u001b[0;36mdecode\u001b[0;34m(self, s, _w, _PY3)\u001b[0m\n\u001b[1;32m    368\u001b[0m         \u001b[0;32mif\u001b[0m \u001b[0m_PY3\u001b[0m \u001b[0;32mand\u001b[0m \u001b[0misinstance\u001b[0m\u001b[0;34m(\u001b[0m\u001b[0ms\u001b[0m\u001b[0;34m,\u001b[0m \u001b[0mbinary_type\u001b[0m\u001b[0;34m)\u001b[0m\u001b[0;34m:\u001b[0m\u001b[0;34m\u001b[0m\u001b[0m\n\u001b[1;32m    369\u001b[0m             \u001b[0ms\u001b[0m \u001b[0;34m=\u001b[0m \u001b[0ms\u001b[0m\u001b[0;34m.\u001b[0m\u001b[0mdecode\u001b[0m\u001b[0;34m(\u001b[0m\u001b[0mself\u001b[0m\u001b[0;34m.\u001b[0m\u001b[0mencoding\u001b[0m\u001b[0;34m)\u001b[0m\u001b[0;34m\u001b[0m\u001b[0m\n\u001b[0;32m--> 370\u001b[0;31m         \u001b[0mobj\u001b[0m\u001b[0;34m,\u001b[0m \u001b[0mend\u001b[0m \u001b[0;34m=\u001b[0m \u001b[0mself\u001b[0m\u001b[0;34m.\u001b[0m\u001b[0mraw_decode\u001b[0m\u001b[0;34m(\u001b[0m\u001b[0ms\u001b[0m\u001b[0;34m)\u001b[0m\u001b[0;34m\u001b[0m\u001b[0m\n\u001b[0m\u001b[1;32m    371\u001b[0m         \u001b[0mend\u001b[0m \u001b[0;34m=\u001b[0m \u001b[0m_w\u001b[0m\u001b[0;34m(\u001b[0m\u001b[0ms\u001b[0m\u001b[0;34m,\u001b[0m \u001b[0mend\u001b[0m\u001b[0;34m)\u001b[0m\u001b[0;34m.\u001b[0m\u001b[0mend\u001b[0m\u001b[0;34m(\u001b[0m\u001b[0;34m)\u001b[0m\u001b[0;34m\u001b[0m\u001b[0m\n\u001b[1;32m    372\u001b[0m         \u001b[0;32mif\u001b[0m \u001b[0mend\u001b[0m \u001b[0;34m!=\u001b[0m \u001b[0mlen\u001b[0m\u001b[0;34m(\u001b[0m\u001b[0ms\u001b[0m\u001b[0;34m)\u001b[0m\u001b[0;34m:\u001b[0m\u001b[0;34m\u001b[0m\u001b[0m\n",
      "\u001b[0;32m//anaconda/lib/python2.7/site-packages/simplejson/decoder.pyc\u001b[0m in \u001b[0;36mraw_decode\u001b[0;34m(self, s, idx, _w, _PY3)\u001b[0m\n\u001b[1;32m    398\u001b[0m             \u001b[0;32melif\u001b[0m \u001b[0mord0\u001b[0m \u001b[0;34m==\u001b[0m \u001b[0;36m0xef\u001b[0m \u001b[0;32mand\u001b[0m \u001b[0ms\u001b[0m\u001b[0;34m[\u001b[0m\u001b[0midx\u001b[0m\u001b[0;34m:\u001b[0m\u001b[0midx\u001b[0m \u001b[0;34m+\u001b[0m \u001b[0;36m3\u001b[0m\u001b[0;34m]\u001b[0m \u001b[0;34m==\u001b[0m \u001b[0;34m'\\xef\\xbb\\xbf'\u001b[0m\u001b[0;34m:\u001b[0m\u001b[0;34m\u001b[0m\u001b[0m\n\u001b[1;32m    399\u001b[0m                 \u001b[0midx\u001b[0m \u001b[0;34m+=\u001b[0m \u001b[0;36m3\u001b[0m\u001b[0;34m\u001b[0m\u001b[0m\n\u001b[0;32m--> 400\u001b[0;31m         \u001b[0;32mreturn\u001b[0m \u001b[0mself\u001b[0m\u001b[0;34m.\u001b[0m\u001b[0mscan_once\u001b[0m\u001b[0;34m(\u001b[0m\u001b[0ms\u001b[0m\u001b[0;34m,\u001b[0m \u001b[0midx\u001b[0m\u001b[0;34m=\u001b[0m\u001b[0m_w\u001b[0m\u001b[0;34m(\u001b[0m\u001b[0ms\u001b[0m\u001b[0;34m,\u001b[0m \u001b[0midx\u001b[0m\u001b[0;34m)\u001b[0m\u001b[0;34m.\u001b[0m\u001b[0mend\u001b[0m\u001b[0;34m(\u001b[0m\u001b[0;34m)\u001b[0m\u001b[0;34m)\u001b[0m\u001b[0;34m\u001b[0m\u001b[0m\n\u001b[0m",
      "\u001b[0;32m//anaconda/lib/python2.7/site-packages/simplejson/scanner.pyc\u001b[0m in \u001b[0;36mscan_once\u001b[0;34m(string, idx)\u001b[0m\n\u001b[1;32m    125\u001b[0m             \u001b[0;32mraise\u001b[0m \u001b[0mJSONDecodeError\u001b[0m\u001b[0;34m(\u001b[0m\u001b[0;34m'Expecting value'\u001b[0m\u001b[0;34m,\u001b[0m \u001b[0mstring\u001b[0m\u001b[0;34m,\u001b[0m \u001b[0midx\u001b[0m\u001b[0;34m)\u001b[0m\u001b[0;34m\u001b[0m\u001b[0m\n\u001b[1;32m    126\u001b[0m         \u001b[0;32mtry\u001b[0m\u001b[0;34m:\u001b[0m\u001b[0;34m\u001b[0m\u001b[0m\n\u001b[0;32m--> 127\u001b[0;31m             \u001b[0;32mreturn\u001b[0m \u001b[0m_scan_once\u001b[0m\u001b[0;34m(\u001b[0m\u001b[0mstring\u001b[0m\u001b[0;34m,\u001b[0m \u001b[0midx\u001b[0m\u001b[0;34m)\u001b[0m\u001b[0;34m\u001b[0m\u001b[0m\n\u001b[0m\u001b[1;32m    128\u001b[0m         \u001b[0;32mfinally\u001b[0m\u001b[0;34m:\u001b[0m\u001b[0;34m\u001b[0m\u001b[0m\n\u001b[1;32m    129\u001b[0m             \u001b[0mmemo\u001b[0m\u001b[0;34m.\u001b[0m\u001b[0mclear\u001b[0m\u001b[0;34m(\u001b[0m\u001b[0;34m)\u001b[0m\u001b[0;34m\u001b[0m\u001b[0m\n",
      "\u001b[0;32m//anaconda/lib/python2.7/site-packages/simplejson/scanner.pyc\u001b[0m in \u001b[0;36m_scan_once\u001b[0;34m(string, idx)\u001b[0m\n\u001b[1;32m    116\u001b[0m             \u001b[0;32mreturn\u001b[0m \u001b[0mparse_constant\u001b[0m\u001b[0;34m(\u001b[0m\u001b[0;34m'-Infinity'\u001b[0m\u001b[0;34m)\u001b[0m\u001b[0;34m,\u001b[0m \u001b[0midx\u001b[0m \u001b[0;34m+\u001b[0m \u001b[0;36m9\u001b[0m\u001b[0;34m\u001b[0m\u001b[0m\n\u001b[1;32m    117\u001b[0m         \u001b[0;32melse\u001b[0m\u001b[0;34m:\u001b[0m\u001b[0;34m\u001b[0m\u001b[0m\n\u001b[0;32m--> 118\u001b[0;31m             \u001b[0;32mraise\u001b[0m \u001b[0mJSONDecodeError\u001b[0m\u001b[0;34m(\u001b[0m\u001b[0merrmsg\u001b[0m\u001b[0;34m,\u001b[0m \u001b[0mstring\u001b[0m\u001b[0;34m,\u001b[0m \u001b[0midx\u001b[0m\u001b[0;34m)\u001b[0m\u001b[0;34m\u001b[0m\u001b[0m\n\u001b[0m\u001b[1;32m    119\u001b[0m \u001b[0;34m\u001b[0m\u001b[0m\n\u001b[1;32m    120\u001b[0m     \u001b[0;32mdef\u001b[0m \u001b[0mscan_once\u001b[0m\u001b[0;34m(\u001b[0m\u001b[0mstring\u001b[0m\u001b[0;34m,\u001b[0m \u001b[0midx\u001b[0m\u001b[0;34m)\u001b[0m\u001b[0;34m:\u001b[0m\u001b[0;34m\u001b[0m\u001b[0m\n",
      "\u001b[0;31mJSONDecodeError\u001b[0m: Expecting value: line 1 column 1 (char 0)"
     ]
    }
   ],
   "source": [
    "res.json()"
   ]
  }
 ],
 "metadata": {
  "anaconda-cloud": {},
  "kernelspec": {
   "display_name": "Python [default]",
   "language": "python",
   "name": "python2"
  },
  "language_info": {
   "codemirror_mode": {
    "name": "ipython",
    "version": 2
   },
   "file_extension": ".py",
   "mimetype": "text/x-python",
   "name": "python",
   "nbconvert_exporter": "python",
   "pygments_lexer": "ipython2",
   "version": "2.7.12"
  }
 },
 "nbformat": 4,
 "nbformat_minor": 2
}
