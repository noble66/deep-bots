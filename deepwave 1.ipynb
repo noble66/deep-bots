{
 "cells": [
  {
   "cell_type": "code",
   "execution_count": 80,
   "metadata": {
    "collapsed": true
   },
   "outputs": [],
   "source": [
    "from random import choice\n",
    "from nltk import word_tokenize\n",
    "from collections import Counter"
   ]
  },
  {
   "cell_type": "markdown",
   "metadata": {},
   "source": [
    "### spaff\n",
    "\n",
    "https://www.researchgate.net/publication/230676408_The_Specific_Affect_Coding_System_SPAFF\n",
    "\n",
    "- The SPAFF is always in development. It can be used to quan-tify affective and interactive behaviors, but it can also bethought of more generally as a language for describing those behaviors.  \n"
   ]
  },
  {
   "cell_type": "code",
   "execution_count": 23,
   "metadata": {},
   "outputs": [],
   "source": [
    "# joy, humor, affection, validation = 4 / interest = 2\n",
    "# contempt = -4/ disgust = -3/ defensiveness, belligerence = -2/ rest = -1\n",
    "\n",
    "class spaff_code:\n",
    "    def __init__(self):\n",
    "        #positive\n",
    "        self.affection = 0  \n",
    "        self.enthusiasm = 0\n",
    "        self.humor = 0\n",
    "        self.interest = 0\n",
    "        self.validation =0\n",
    "        #negative\n",
    "        self.anger = 0\n",
    "        self.belligerence=0\n",
    "        self.contempt=0\n",
    "        self.criticism = 0\n",
    "        self.defensiveness= 0\n",
    "        self.disgust =0\n",
    "        self.domineering=0\n",
    "        self.fear = 0 # tension\n",
    "        self.sadness= 0\n",
    "        self.stonewalling=0\n",
    "        self.threats=0\n",
    "        self.whining = 0\n",
    "    def show_positive_affects(self):\n",
    "        print self.affection, self.enthusiasm, self.humor, self.interest, self.validation\n",
    "        \n",
    "    def show_negative_affects(self):\n",
    "        print self.contempt"
   ]
  },
  {
   "cell_type": "code",
   "execution_count": 21,
   "metadata": {
    "collapsed": true
   },
   "outputs": [],
   "source": [
    "suman = spaff_code()"
   ]
  },
  {
   "cell_type": "code",
   "execution_count": 10,
   "metadata": {},
   "outputs": [
    {
     "data": {
      "text/plain": [
       "<__main__.spaff_code instance at 0x1044c07a0>"
      ]
     },
     "execution_count": 10,
     "metadata": {},
     "output_type": "execute_result"
    }
   ],
   "source": [
    "suman"
   ]
  },
  {
   "cell_type": "code",
   "execution_count": 24,
   "metadata": {},
   "outputs": [
    {
     "name": "stdout",
     "output_type": "stream",
     "text": [
      "0 0 0 0 0\n"
     ]
    }
   ],
   "source": [
    "suman.show_positive_affects()"
   ]
  },
  {
   "cell_type": "code",
   "execution_count": 52,
   "metadata": {
    "collapsed": true
   },
   "outputs": [],
   "source": [
    "class affection:\n",
    "    def __init__(self):\n",
    "        self.affection=0\n",
    "    def status(self):\n",
    "        return self.affection\n",
    "    \n",
    "    def generate_reminisce(self):\n",
    "        return random()\n",
    "    def genereate_caring(self):\n",
    "        return random()\n",
    "    def generate_compliments(self):\n",
    "        return random()\n",
    "    def generate_empathy(self):\n",
    "        return random()\n",
    "    def generate_common_cause(self):\n",
    "        return random()\n",
    "    def generate_flirting(self):\n",
    "        return random()\n",
    "    def affection_status(self):\n",
    "        return self.affection"
   ]
  },
  {
   "cell_type": "code",
   "execution_count": 49,
   "metadata": {},
   "outputs": [
    {
     "name": "stdout",
     "output_type": "stream",
     "text": [
      "0.609807649324\n",
      "0.526003560232\n"
     ]
    },
    {
     "data": {
      "text/plain": [
       "0"
      ]
     },
     "execution_count": 49,
     "metadata": {},
     "output_type": "execute_result"
    }
   ],
   "source": [
    "aff = affection()\n",
    "print aff.generate_reminisce()\n",
    "print aff.generate_flirting()\n",
    "aff.status()"
   ]
  },
  {
   "cell_type": "markdown",
   "metadata": {},
   "source": [
    "#### anger"
   ]
  },
  {
   "cell_type": "code",
   "execution_count": 51,
   "metadata": {
    "collapsed": true
   },
   "outputs": [],
   "source": [
    "class anger:\n",
    "    def __init__(self):\n",
    "        self.anger=0\n",
    "        \n",
    "    def status(self):\n",
    "        return self.affection\n",
    "    def generate_frustration(self):\n",
    "        return random()\n",
    "    def genereate_narsicism_anger(self):\n",
    "        return random()\n",
    "    def generate_angry_questions(self):\n",
    "        return random()\n",
    "    def generate_commands(self):\n",
    "        return random()\n",
    "    "
   ]
  },
  {
   "cell_type": "markdown",
   "metadata": {},
   "source": [
    "Interesting concepts:\n",
    "    - spaff as scale\n",
    "    - spaff as language (find frequency of affect sequences)\n",
    "        -- rejection of inflience"
   ]
  },
  {
   "cell_type": "markdown",
   "metadata": {},
   "source": [
    "## TRAITS\n",
    "\n",
    "<html>\n",
    "<img src = \"https://upload.wikimedia.org/wikipedia/commons/c/cc/Tett_and_Burnett%27s_%282003%29_Figure.png\"> \n",
    "</html>"
   ]
  },
  {
   "cell_type": "code",
   "execution_count": 71,
   "metadata": {
    "collapsed": true
   },
   "outputs": [],
   "source": [
    "class open_to_experience:\n",
    "    def __init__(self):\n",
    "        self.imagination=0\n",
    "        self.aesthetics = 0\n",
    "        self.seeinnerfeel =0 \n",
    "        self.variety = 0\n",
    "        self.curiosity = 0\n",
    "        self.primary = True\n",
    "\n",
    "class conscientiousness:\n",
    "    def __init__(self):\n",
    "        self.careful = 0\n",
    "        self.vigilant =0\n",
    "        self.meticulous = 0\n",
    "        self.principled = 0\n",
    "\n",
    "class extraversion:\n",
    "    def __init__(self):\n",
    "        self.outgoing =0\n",
    "        self.socialble =0\n",
    "        self.gregarious = 0\n",
    "        \n",
    "class agreeableness:\n",
    "    def __init__(self):\n",
    "        self.emphatic =0\n",
    "        self.friendly = 0\n",
    "        self.cooperative = 0\n",
    "        self.compliant =0\n",
    "\n",
    "class neuroticism:\n",
    "    def __init__(self):\n",
    "        self.moody =0\n",
    "        self.selfConscious = 0"
   ]
  },
  {
   "cell_type": "code",
   "execution_count": 72,
   "metadata": {
    "collapsed": true
   },
   "outputs": [],
   "source": [
    "class state_trait_anxiety:\n",
    "    def __init__(self):\n",
    "        self.calm = 0\n",
    "        self.secure = 0\n",
    "        self.tense = 0\n",
    "        self.worried = 0\n",
    "        self.content =0\n",
    "        self.worrynomatter = 0\n",
    "        "
   ]
  },
  {
   "cell_type": "markdown",
   "metadata": {},
   "source": [
    "### Spinoza"
   ]
  },
  {
   "cell_type": "code",
   "execution_count": 73,
   "metadata": {
    "collapsed": true
   },
   "outputs": [],
   "source": [
    "spinoza = '''Love is joy with the accompanying idea of an external cause.\n",
    "\n",
    "Hatred is sorrow with the accompanying idea of an external cause.\n",
    "\n",
    "Hope is a joy not constant, arising from the idea of something future or past about the issue of which we sometimes doubt.\n",
    "\n",
    "Fear is a sorrow not constant, arising from the idea of something future or past about the issue of which we sometimes doubt. \n",
    "\n",
    "Confidence is a joy arising from the idea of a past or future object from which cause for doubting is removed.\n",
    "\n",
    "Despair is sorrow arising from the idea of a past or future object from which cause for doubting is removed.\n",
    "\n",
    "Gladness is joy with the accompanying idea of something past which, unhoped for, has happened.\n",
    "\n",
    "Remorse is sorrow with the accompanying idea of something past which, unhoped for, has happened. \n",
    "\n",
    "Favor is love toward those who have benefited others.\n",
    "\n",
    "Indignation is hatred toward those who have injured others.\n",
    "\n",
    "Aversion is pain, accompanied by the idea of something which is accidentally the cause of pain\n",
    "\n",
    "Overestimation consists of thinking too highly of another person in consequence of our love for him.\n",
    "\n",
    "Contempt consists in thinking too little of another person in consequence of our hatred for him. \n",
    "\n",
    "Envy is hatred in so far as it affects a man so that he is sad at the good fortune of another person and is glad when any evil happens to him.\n",
    "\n",
    "Compassion is love in so far as it affects a man so that he is glad at the prosperity  of another person and is sad when any evil happens to him.\n",
    "\n",
    "Self-satisfaction is the joy which is produced by contemplating ourselves and our own power of action.\n",
    "\n",
    "Humility is the sorrow which is produced by contemplating our impotence or helplessness. \n",
    "\n",
    "Pride is thinking too much of ourselves, through self-love. \n",
    "\n",
    "Despondency is thinking too little of ourselves through sorrow. \n",
    "\n",
    "Self-exaltation is joy with the accompanying idea of some action which we imagine people praise.\n",
    "\n",
    "Shame is sorrow with the accompanying idea of some action which we imagine people blame. \n",
    "\n",
    "Honor is pleasure accompanied by the idea of some action of our own, which we believe to be praised by others.\n",
    "\n",
    "Benevolence is the desire to do good to those whom we pity.\n",
    "\n",
    "Anger is the desire by which we are impelled, through hatred, to injure those whom we hate. \n",
    "\n",
    "Derision is pleasure arising from our conceiving the presence of a quality, which we despise, in an object which we hate.\n",
    "\n",
    "Devotion is love towards one whom we admire.\n",
    "\n",
    "Pity is pain accompanied by the idea of evil, which has befallen someone else whom we conceive to be like ourselves\n",
    "\n",
    "Repentance is pain accompanied by the idea of some action, which we believe we have performed by the free decision of our mind.\n",
    "\n",
    "Emulation is the desire of something, engendered in us by our conception that others have the same desire.\n",
    "\n",
    "Revenge is the desire whereby we are induced, through mutual hatred, to injure one who, with similar feelings, has injured us.\n",
    "\n",
    "Cruelty or savageness is the desire, whereby a man is impelled to injure one whom we love or pity.\n",
    "\n",
    "Courtesy or deference (Humanitas seu modestia), is the desire of acting in a way that should please men, and refraining from that which should displease them.\n",
    "\n",
    "Ambition is the immoderate desire of power. \n",
    "\n",
    "Luxury is excessive desire, or even love of living sumptuously.\n",
    "\n",
    "Intemperance is the excessive desire and love of drinking.\n",
    "\n",
    "Avarice is the excessive desire and love of riches.\n",
    "\n",
    "Lust is desire and love in the matter of sexual intercourse.'''"
   ]
  },
  {
   "cell_type": "code",
   "execution_count": 75,
   "metadata": {},
   "outputs": [],
   "source": [
    "spinwords = []\n",
    "for i in spinoza.split('\\n'):\n",
    "    if len(i)>0:\n",
    "        spinwords.append(i)"
   ]
  },
  {
   "cell_type": "code",
   "execution_count": 93,
   "metadata": {},
   "outputs": [],
   "source": [
    "wrds = []\n",
    "for s in spinwords:\n",
    "    wrds.extend([i.lower() for i in word_tokenize(s) if i.lower() not in stopwords+['.',',']])"
   ]
  },
  {
   "cell_type": "code",
   "execution_count": 95,
   "metadata": {},
   "outputs": [
    {
     "name": "stdout",
     "output_type": "stream",
     "text": [
      "[('idea', 14), ('desire', 12), ('love', 10), ('sorrow', 7), ('accompanying', 6), ('past', 6), ('joy', 6), ('hatred', 6), ('something', 6), ('cause', 5), ('action', 5), ('arising', 5), ('thinking', 4), ('accompanied', 4), ('another', 4), ('future', 4), ('pain', 4), ('person', 4), ('others', 4), ('excessive', 3), ('one', 3), ('evil', 3), ('pity', 3), ('injure', 3), ('object', 3), ('man', 3), ('produced', 2), ('consists', 2), ('hate', 2), ('removed', 2), ('contemplating', 2), ('happened', 2), ('doubting', 2), ('good', 2), ('people', 2), ('happens', 2), ('affects', 2), ('issue', 2), ('power', 2), ('little', 2), ('impelled', 2), ('unhoped', 2), ('doubt', 2), ('external', 2), ('believe', 2), ('glad', 2), ('us', 2), ('toward', 2), ('constant', 2), ('sad', 2), ('far', 2), ('injured', 2), ('imagine', 2), ('consequence', 2), ('whereby', 2), ('sometimes', 2), ('pleasure', 2), ('despise', 1), ('displease', 1), ('fear', 1), ('envy', 1), ('much', 1), ('befallen', 1), ('praised', 1), ('pride', 1), ('indignation', 1), ('hope', 1), ('compassion', 1), ('despondency', 1), ('self-satisfaction', 1), ('avarice', 1), ('ambition', 1), ('drinking', 1), ('fortune', 1), ('like', 1), ('conceive', 1), ('accidentally', 1), ('conceiving', 1), ('seu', 1), ('engendered', 1), ('modestia', 1), ('self-love', 1), ('gladness', 1), ('sexual', 1), ('living', 1), ('helplessness', 1), ('intercourse', 1), ('decision', 1), ('please', 1), ('favor', 1), ('acting', 1), ('remorse', 1), ('induced', 1), ('men', 1), ('free', 1), ('revenge', 1), ('blame', 1), ('self-exaltation', 1), ('benevolence', 1), ('despair', 1), ('(', 1), ('honor', 1), ('emulation', 1), ('benefited', 1), ('presence', 1), ('humility', 1), ('highly', 1), ('quality', 1), ('confidence', 1), ('derision', 1), ('way', 1), ('impotence', 1), ('refraining', 1), ('repentance', 1), ('cruelty', 1), ('else', 1), ('conception', 1), ('riches', 1), ('admire', 1), ('matter', 1), ('praise', 1), ('aversion', 1), ('similar', 1), ('devotion', 1), ('performed', 1), ('immoderate', 1), ('mind', 1), ('lust', 1), ('shame', 1), ('someone', 1), ('anger', 1), ('contempt', 1), ('prosperity', 1), ('mutual', 1), (')', 1), ('luxury', 1), ('deference', 1), ('humanitas', 1), ('sumptuously', 1), ('even', 1), ('towards', 1), ('intemperance', 1), ('feelings', 1), ('courtesy', 1), ('overestimation', 1), ('savageness', 1)]\n"
     ]
    }
   ],
   "source": [
    "print Counter(wrds).most_common()"
   ]
  },
  {
   "cell_type": "code",
   "execution_count": 88,
   "metadata": {},
   "outputs": [
    {
     "name": "stdout",
     "output_type": "stream",
     "text": [
      "['i', 'me', 'my', 'myself', 'we', 'our', 'ours', 'ourselves', 'you', 'your', 'yours', 'yourself', 'yourselves', 'he', 'him', 'his', 'himself', 'she', 'her', 'hers', 'herself', 'it', 'its', 'itself', 'they', 'them', 'their', 'theirs', 'themselves', 'what', 'which', 'who', 'whom', 'this', 'that', 'these', 'those', 'am', 'is', 'are', 'was', 'were', 'be', 'been', 'being', 'have', 'has', 'had', 'having', 'do', 'does', 'did', 'doing', 'a', 'an', 'the', 'and', 'but', 'if', 'or', 'because', 'as', 'until', 'while', 'of', 'at', 'by', 'for', 'with', 'about', 'against', 'between', 'into', 'through', 'during', 'before', 'after', 'above', 'below', 'to', 'from', 'up', 'down', 'in', 'out', 'on', 'off', 'over', 'under', 'again', 'further', 'then', 'once', 'here', 'there', 'when', 'where', 'why', 'how', 'all', 'any', 'both', 'each', 'few', 'more', 'most', 'other', 'some', 'such', 'no', 'nor', 'not', 'only', 'own', 'same', 'so', 'than', 'too', 'very', 's', 't', 'can', 'will', 'just', 'don', 'should', 'now']\n"
     ]
    }
   ],
   "source": [
    "print stopwords"
   ]
  },
  {
   "cell_type": "markdown",
   "metadata": {},
   "source": [
    "## Scraping Infobox"
   ]
  },
  {
   "cell_type": "code",
   "execution_count": 5,
   "metadata": {
    "collapsed": true
   },
   "outputs": [],
   "source": [
    "import requests"
   ]
  },
  {
   "cell_type": "code",
   "execution_count": 6,
   "metadata": {},
   "outputs": [],
   "source": [
    "url = 'https://en.wikipedia.org/wiki/Alan Turing'\n",
    "res = requests.get(url, params={'action':'raw'})\n",
    "page = res.text"
   ]
  },
  {
   "cell_type": "code",
   "execution_count": 7,
   "metadata": {},
   "outputs": [],
   "source": [
    "def get_base(page):\n",
    "    for line in page.splitlines():\n",
    "        if 'birth_date' in line:\n",
    "            x = [i.replace('}','') for i in line.split('birth_date       = ')[-1].split('|')[1:5]]\n",
    "            print x\n",
    "            bday= '-'.join([i for i in x if i.isdigit()])\n",
    "            print bday\n",
    "        if 'birth_place' in line:\n",
    "            print line\n",
    "            x= line.split('=')[-1]\n",
    "            y = x.split('|')\n",
    "            print y\n",
    "            if 'nowrap' in y[0]:\n",
    "                print y[1].replace('[','')\n",
    "            else:\n",
    "                print y[0]\n",
    "    return bday"
   ]
  },
  {
   "cell_type": "code",
   "execution_count": 8,
   "metadata": {},
   "outputs": [
    {
     "name": "stdout",
     "output_type": "stream",
     "text": [
      "[u' birth_date = {{Birth date', u'df=yes', u'1912', u'6']\n",
      "1912-6\n",
      "| birth_place = [[Maida Vale]], London, England, United Kingdom\n",
      "[u' [[Maida Vale]], London, England, United Kingdom']\n",
      " [[Maida Vale]], London, England, United Kingdom\n",
      "1912-6\n"
     ]
    },
    {
     "ename": "NameError",
     "evalue": "name 'get_zodiac_sign' is not defined",
     "output_type": "error",
     "traceback": [
      "\u001b[0;31m---------------------------------------------------------------------------\u001b[0m",
      "\u001b[0;31mNameError\u001b[0m                                 Traceback (most recent call last)",
      "\u001b[0;32m<ipython-input-8-af1fa6ac4973>\u001b[0m in \u001b[0;36m<module>\u001b[0;34m()\u001b[0m\n\u001b[1;32m      1\u001b[0m \u001b[0mbday\u001b[0m \u001b[0;34m=\u001b[0m \u001b[0mget_base\u001b[0m\u001b[0;34m(\u001b[0m\u001b[0mpage\u001b[0m\u001b[0;34m)\u001b[0m\u001b[0;34m\u001b[0m\u001b[0m\n\u001b[1;32m      2\u001b[0m \u001b[0;32mprint\u001b[0m \u001b[0mbday\u001b[0m\u001b[0;34m\u001b[0m\u001b[0m\n\u001b[0;32m----> 3\u001b[0;31m \u001b[0mget_zodiac_sign\u001b[0m\u001b[0;34m(\u001b[0m\u001b[0mbday\u001b[0m\u001b[0;34m)\u001b[0m\u001b[0;34m\u001b[0m\u001b[0m\n\u001b[0m",
      "\u001b[0;31mNameError\u001b[0m: name 'get_zodiac_sign' is not defined"
     ]
    }
   ],
   "source": [
    "bday = get_base(page)\n",
    "print bday\n",
    "get_zodiac_sign(bday)"
   ]
  },
  {
   "cell_type": "code",
   "execution_count": 229,
   "metadata": {},
   "outputs": [],
   "source": [
    "zodiac = dict(\n",
    "    Aries=((3, 21), (4, 19)),\n",
    "    Taurus=((4, 20), (5, 20)),\n",
    "    Gemini=((5, 21), (6, 20)),\n",
    "    Cancer=((6, 21), (7, 22)),\n",
    "    Leo=((7, 23), (8, 22)),\n",
    "    Virgo=((8, 23), (9, 22)),\n",
    "    Libra=((9, 23), (10, 22)),\n",
    "    Scorpio=((10, 23), (11, 21)),\n",
    "    Sagittarius=((11, 22), (12, 21)),\n",
    "    Capricron=((12, 21), (1, 19)),\n",
    "    Aquarius=((1, 20), (2, 18)),\n",
    "    Pisces=((2, 19), (3, 20)))\n"
   ]
  },
  {
   "cell_type": "code",
   "execution_count": 235,
   "metadata": {
    "collapsed": true
   },
   "outputs": [],
   "source": [
    "def get_zodiac_sign(dt):\n",
    "    [yr, month,day] = dt.split('-')\n",
    "\n",
    "    d = int(day)\n",
    "    m = int(month)\n",
    "\n",
    "    for sign, (s, e) in zodiac.iteritems():\n",
    "        # special case for Capricorn\n",
    "        if (m == 12 and d >= 21) or (m == 1 and d <= 19):\n",
    "            return 'Capricorn'\n",
    "\n",
    "        if s[0] <= m <= e[0]:\n",
    "            if (m == s[0] and d >= s[1]) or (m == e[0] and d <= e[1]):\n",
    "                return sign\n",
    "    return"
   ]
  },
  {
   "cell_type": "code",
   "execution_count": 239,
   "metadata": {},
   "outputs": [
    {
     "data": {
      "text/plain": [
       "'Aries'"
      ]
     },
     "execution_count": 239,
     "metadata": {},
     "output_type": "execute_result"
    }
   ],
   "source": [
    "get_zodiac_sign('1985-04-09')"
   ]
  },
  {
   "cell_type": "markdown",
   "metadata": {},
   "source": [
    "#### periodic tab\n",
    "\n",
    "- could you use word vectors to expand this list so each user sentence can be profiled?"
   ]
  },
  {
   "cell_type": "code",
   "execution_count": 3,
   "metadata": {},
   "outputs": [],
   "source": [
    "# [ on the poneg scale, Physical Detection Ease ]\n",
    "\n",
    "# Poneg .. -10 - 10\n",
    "# PED .. 0 - 1\n",
    "\n",
    "\n",
    "def passion():\n",
    "    rapture = [10, .8]\n",
    "    infatuation = [5, .1] \n",
    "    lust = [8,.2] \n",
    "    desire = [3, 0.3]\n",
    "    arousal = [4, 0.2] \n",
    "    jealousy = [-5, 0.5]\n",
    "    rejection = [-4, 0.8]\n",
    "    resentment = [-2, 0.6]\n",
    "    bitterness = [-3, 0.9]\n",
    "    loathing = [-6,0.5]\n",
    "    hatred = [-10, 0.2]\n",
    "    wrath = [-7, 0.8]\n",
    "    fury = [-8, 1.0]\n",
    "    rage = [-9, 0.5]  \n",
    "    \n",
    "def depression():\n",
    "    melancholy = [3,0.2] \n",
    "    withdrawl = [-1,0.3]\n",
    "    isolation = [0,0.5]\n",
    "    abandonment = [6,0.1]\n",
    "    condemnation = [4,0.6]\n",
    "    despair = [8,0.3]\n",
    "    devastation = [7,0.6]\n",
    "    emptiness = [1,0.1]\n",
    "    worthlessness = [2,0.3]\n",
    "    depression = [5,0.4]\n",
    "    misery = [6,0.8]\n",
    "    hopelessness = [3,0.2]\n",
    "    gloom = [-2,0.4]\n",
    "    dread = [1,0.1]\n",
    "    numbness = [0,0.4]\n",
    "    \n",
    "def positives():\n",
    "    # what are the cores here ? \n",
    "    joy = 0\n",
    "    love = 0\n",
    "    adoration = 0\n",
    "    care = 0\n",
    "    empathy = 0\n",
    "    humor = 0\n",
    "    giddiness = 0\n",
    "    enthusiasm = 0\n",
    "    exhilaration = 0 \n",
    "    playfulness = 0\n",
    "    optimism = 0\n",
    "    reverance = 0\n",
    "    awe = 0 \n",
    "    pleasure = 0\n",
    "    bravery = 0\n",
    "    beloved = 0\n",
    "    satisfaction = 0\n",
    "    humility = 0\n",
    "    determination = 0\n",
    "    hope = 0\n",
    "    blessing = 0\n",
    "    amazement = 0\n",
    "    solemnity = 0\n",
    "    bliss = 0 \n",
    "    gratitude = 0\n",
    "    comfort = 0\n",
    "    jubilation = 0\n",
    "    elation = 0\n",
    "    delight = 0\n",
    "    contentment = 0\n",
    "    excitement = 0\n",
    "    cheer = 0\n",
    "    relief = 0\n",
    "    eagerness = 0\n",
    "    ecstasy = 0\n",
    "    happiness = 0\n",
    "    peace = 0\n",
    "\n",
    "def neutral():\n",
    "    creativity = 0\n",
    "    sexiness = 0\n",
    "    sensuality = 0\n",
    "    innoncence = 0\n",
    "    spirituality = 0\n",
    "    worthiness = 0\n",
    "    anticipation = 0\n",
    "    certainty = 0\n",
    "    longing = 0\n",
    "    vulnerability = 0\n",
    "    exposure = 0\n",
    "    pride = 0\n",
    "    apprehension= 0\n",
    "    reflection = 0\n",
    "    astonishment = 0\n",
    "    hesitation = 0\n",
    "    surprised = 0\n",
    "    nostalgia = 0\n",
    "    tranquility = 0\n",
    "    \n",
    "    \n",
    "def negatives():\n",
    "    frustration = 0\n",
    "    embarrasement = 0\n",
    "    loneliness = 0\n",
    "    remorse = 0\n",
    "    contempt = 0\n",
    "    grouchiness = 0\n",
    "    denial = 0\n",
    "    guilt = 0\n",
    "    homesick = 0\n",
    "    grief = [0,5]\n",
    "    pessimism = [0,3]\n",
    "    boredom = [0, 5]\n",
    "    envy = [0, 7]\n",
    "    sadness = [0,8]\n",
    "    unhappiness = [0,8]\n",
    "    lethargy = 0\n",
    "    dissappointment = 0\n",
    "    anxiety = 0\n",
    "    fear = 0\n",
    "    exasperation = 0\n",
    "    terror = 0\n",
    "    anger = 0\n",
    "    agitation = 0\n",
    "    shock = 0\n",
    "    shame = 0\n",
    "    aggravation = 0\n",
    "    tension = 0\n",
    "    stress = 0\n",
    "    impatience = 0\n",
    "    disgrace = 0\n",
    "    confusion = 0\n",
    "    humiliation = 0\n",
    "    doubt = 0\n",
    "    hurt = 0\n",
    "    distant = 0\n",
    "    "
   ]
  }
 ],
 "metadata": {
  "anaconda-cloud": {},
  "kernelspec": {
   "display_name": "Python 2",
   "language": "python",
   "name": "python2"
  },
  "language_info": {
   "codemirror_mode": {
    "name": "ipython",
    "version": 2
   },
   "file_extension": ".py",
   "mimetype": "text/x-python",
   "name": "python",
   "nbconvert_exporter": "python",
   "pygments_lexer": "ipython2",
   "version": "2.7.12"
  }
 },
 "nbformat": 4,
 "nbformat_minor": 1
}
